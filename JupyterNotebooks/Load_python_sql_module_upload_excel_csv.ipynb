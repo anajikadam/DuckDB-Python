{
 "cells": [
  {
   "cell_type": "code",
   "execution_count": 1,
   "id": "db36e33e",
   "metadata": {},
   "outputs": [],
   "source": [
    "import warnings\n",
    "warnings.filterwarnings('ignore')\n",
    "\n",
    "import sys\n",
    "# Adds the parent directory to the system path\n",
    "sys.path.append('../')  \n",
    "\n",
    "import pandas as pd\n",
    "from python_sql.py_SQL import SQLConn, UpdateTable, ShowTable"
   ]
  },
  {
   "cell_type": "code",
   "execution_count": 2,
   "id": "0d7c0601",
   "metadata": {},
   "outputs": [
    {
     "name": "stdout",
     "output_type": "stream",
     "text": [
      "Database 'TICRawData' loaded.\n",
      "Class SQLConn active.\n",
      "Number of tables: 2\n",
      "('MemberData',)\n",
      "('my_courses',)\n",
      "\n",
      "\t\tConnection Disconnected.\n"
     ]
    }
   ],
   "source": [
    "db_name = \"TICRawData\"\n",
    "obj = SQLConn(db_name)\n",
    "connection = obj._conn\n",
    "cursor = obj._cursor\n",
    "print(str(obj))\n",
    "\n",
    "obj.show_tables()"
   ]
  },
  {
   "cell_type": "code",
   "execution_count": 6,
   "id": "2e10425d",
   "metadata": {
    "scrolled": true
   },
   "outputs": [
    {
     "name": "stdout",
     "output_type": "stream",
     "text": [
      "Database 'TICRawData' loaded.\n",
      "Table my_courses created successfully.\n",
      "\n",
      "\t\tConnection Disconnected.\n"
     ]
    }
   ],
   "source": [
    "table_nm = 'my_courses'\n",
    "schema = \"(course_id INTEGER, course_name VARCHAR, price FLOAT)\"\n",
    "obj = UpdateTable(db_name, table_nm)\n",
    "obj.create_table(schema)"
   ]
  },
  {
   "cell_type": "code",
   "execution_count": 8,
   "id": "37021cea",
   "metadata": {},
   "outputs": [
    {
     "name": "stdout",
     "output_type": "stream",
     "text": [
      "Database 'TICRawData' loaded.\n",
      "Data from csv courses.csv inserted into table my_courses successfully.\n",
      "\n",
      "\t\tConnection Disconnected.\n"
     ]
    }
   ],
   "source": [
    "obj = UpdateTable(db_name, table_nm)\n",
    "obj.insert_csv_file_data_into_table(\"courses.csv\")"
   ]
  },
  {
   "cell_type": "code",
   "execution_count": null,
   "id": "599b4499",
   "metadata": {},
   "outputs": [],
   "source": []
  },
  {
   "cell_type": "code",
   "execution_count": 10,
   "id": "77c275dd",
   "metadata": {},
   "outputs": [
    {
     "name": "stdout",
     "output_type": "stream",
     "text": [
      "Database 'TICRawData' loaded.\n"
     ]
    }
   ],
   "source": [
    "obj = SQLConn(db_name)\n",
    "dir_name = \"my_TICRawData_exported\"\n",
    "obj.export_db_csv(dir_name)"
   ]
  },
  {
   "cell_type": "code",
   "execution_count": 33,
   "id": "72d5ad0e",
   "metadata": {},
   "outputs": [],
   "source": [
    "# path = \"TICRawData26June2024.xlsx\"\n",
    "# df = pd.read_excel(path)\n",
    "# df.shape (273727, 55)"
   ]
  },
  {
   "cell_type": "code",
   "execution_count": 9,
   "id": "5471841e",
   "metadata": {},
   "outputs": [
    {
     "data": {
      "text/plain": [
       "(10000, 5)"
      ]
     },
     "execution_count": 9,
     "metadata": {},
     "output_type": "execute_result"
    }
   ],
   "source": [
    "path = \"DataMember_ID_all_Some.xlsx\"\n",
    "df = pd.read_excel(path, nrows =10000)\n",
    "df.fillna(0, inplace=True)\n",
    "df['MemberID'] = df['MemberID'].astype(int)\n",
    "df.shape"
   ]
  },
  {
   "cell_type": "code",
   "execution_count": 10,
   "id": "4ec79596",
   "metadata": {},
   "outputs": [
    {
     "name": "stdout",
     "output_type": "stream",
     "text": [
      "<class 'pandas.core.frame.DataFrame'>\n",
      "RangeIndex: 10000 entries, 0 to 9999\n",
      "Data columns (total 5 columns):\n",
      " #   Column         Non-Null Count  Dtype \n",
      "---  ------         --------------  ----- \n",
      " 0   Policy Number  10000 non-null  object\n",
      " 1   Member CPR     10000 non-null  int64 \n",
      " 2   Primary CPR    10000 non-null  int64 \n",
      " 3   Employee Code  10000 non-null  object\n",
      " 4   MemberID       10000 non-null  int32 \n",
      "dtypes: int32(1), int64(2), object(2)\n",
      "memory usage: 351.7+ KB\n"
     ]
    }
   ],
   "source": [
    "df.info()"
   ]
  },
  {
   "cell_type": "code",
   "execution_count": 13,
   "id": "94da2330",
   "metadata": {},
   "outputs": [
    {
     "data": {
      "text/plain": [
       "Index(['Policy Number', 'Member CPR', 'Primary CPR', 'Employee Code',\n",
       "       'MemberID'],\n",
       "      dtype='object')"
      ]
     },
     "execution_count": 13,
     "metadata": {},
     "output_type": "execute_result"
    }
   ],
   "source": [
    "df.columns"
   ]
  },
  {
   "cell_type": "code",
   "execution_count": null,
   "id": "03076764",
   "metadata": {},
   "outputs": [],
   "source": []
  },
  {
   "cell_type": "code",
   "execution_count": 2,
   "id": "7b84ad56",
   "metadata": {},
   "outputs": [],
   "source": [
    "from python_sql.py_SQL import SQLConn, UpdateTable, ShowTable"
   ]
  },
  {
   "cell_type": "code",
   "execution_count": 7,
   "id": "a578b08a",
   "metadata": {},
   "outputs": [
    {
     "name": "stdout",
     "output_type": "stream",
     "text": [
      "Database 'TICRawData' loaded.\n",
      "Class SQLConn active.\n",
      "No table available.\n",
      "\n",
      "\t\tConnection Disconnected.\n"
     ]
    }
   ],
   "source": [
    "db_name = \"TICRawData\"\n",
    "obj = SQLConn(db_name)\n",
    "connection = obj._conn\n",
    "cursor = obj._cursor\n",
    "print(str(obj))\n",
    "\n",
    "obj.show_tables()"
   ]
  },
  {
   "cell_type": "code",
   "execution_count": 4,
   "id": "f57cdc75",
   "metadata": {},
   "outputs": [
    {
     "name": "stdout",
     "output_type": "stream",
     "text": [
      "Database 'TICRawData' loaded.\n",
      "TRUNCATE table MemberData\n"
     ]
    }
   ],
   "source": [
    "# table_nm = 'MemberData'\n",
    "# obj = UpdateTable(db_name, table_nm)\n",
    "# obj.truncate_table()\n",
    "# obj.drop_table()"
   ]
  },
  {
   "cell_type": "code",
   "execution_count": 8,
   "id": "a986766e",
   "metadata": {},
   "outputs": [
    {
     "name": "stdout",
     "output_type": "stream",
     "text": [
      "Database 'TICRawData' loaded.\n",
      "Table MemberData created successfully.\n",
      "\n",
      "\t\tConnection Disconnected.\n"
     ]
    }
   ],
   "source": [
    "table_nm = 'MemberData'\n",
    "schema = \"(PolicyNumber VARCHAR, MemberCPR VARCHAR, PrimaryCPR VARCHAR, EmployeeCode VARCHAR, MemberID INT,)\"\n",
    "obj = UpdateTable(db_name, table_nm)\n",
    "obj.create_table(schema)"
   ]
  },
  {
   "cell_type": "code",
   "execution_count": 14,
   "id": "3ace76d1",
   "metadata": {},
   "outputs": [],
   "source": [
    "new_col_names = ['PolicyNumber', 'MemberCPR', 'PrimaryCPR', 'EmployeeCode', 'MemberID']\n",
    "df = df.rename(columns=dict(zip(df.columns, new_col_names)))"
   ]
  },
  {
   "cell_type": "code",
   "execution_count": 16,
   "id": "3a743c2f",
   "metadata": {},
   "outputs": [
    {
     "name": "stdout",
     "output_type": "stream",
     "text": [
      "Database 'TICRawData' loaded.\n"
     ]
    }
   ],
   "source": [
    "db_name = \"TICRawData\"\n",
    "obj = SQLConn(db_name)\n",
    "connection = obj._conn"
   ]
  },
  {
   "cell_type": "code",
   "execution_count": 17,
   "id": "ff07b4a5",
   "metadata": {},
   "outputs": [
    {
     "data": {
      "text/plain": [
       "-1"
      ]
     },
     "execution_count": 17,
     "metadata": {},
     "output_type": "execute_result"
    }
   ],
   "source": [
    "# Insert data from the DataFrame into the table\n",
    "df.to_sql('MemberData', connection, if_exists='append', index=False)"
   ]
  },
  {
   "cell_type": "code",
   "execution_count": 3,
   "id": "c772acd2",
   "metadata": {},
   "outputs": [],
   "source": [
    "obj1 = ShowTable(db_name, table_nm)\n",
    "obj1.show_table_data_all()"
   ]
  },
  {
   "cell_type": "code",
   "execution_count": 19,
   "id": "4bafede6",
   "metadata": {},
   "outputs": [
    {
     "name": "stdout",
     "output_type": "stream",
     "text": [
      "\n",
      "\t\tConnection Disconnected.\n"
     ]
    }
   ],
   "source": [
    "obj.close_conn_db()"
   ]
  },
  {
   "cell_type": "code",
   "execution_count": 21,
   "id": "a4030eaa",
   "metadata": {},
   "outputs": [
    {
     "name": "stdout",
     "output_type": "stream",
     "text": [
      "Database 'TICRawData' loaded.\n",
      "Number of rows: 10000\n",
      "\n",
      "\t\tConnection Disconnected.\n"
     ]
    }
   ],
   "source": [
    "db_name = \"TICRawData\"\n",
    "table_nm = 'MemberData'\n",
    "obj = ShowTable(db_name, table_nm)\n",
    "df = obj.table_data_to_df()"
   ]
  },
  {
   "cell_type": "code",
   "execution_count": 4,
   "id": "ca6186ee",
   "metadata": {},
   "outputs": [],
   "source": [
    "df.columns = new_col_names\n",
    "df.head()"
   ]
  },
  {
   "cell_type": "code",
   "execution_count": null,
   "id": "2b5beaa7",
   "metadata": {},
   "outputs": [],
   "source": []
  },
  {
   "cell_type": "code",
   "execution_count": null,
   "id": "18e42ba2",
   "metadata": {},
   "outputs": [],
   "source": []
  }
 ],
 "metadata": {
  "kernelspec": {
   "display_name": "Venv_DuckDB_Python311",
   "language": "python",
   "name": "venv_duckdb_python311"
  },
  "language_info": {
   "codemirror_mode": {
    "name": "ipython",
    "version": 3
   },
   "file_extension": ".py",
   "mimetype": "text/x-python",
   "name": "python",
   "nbconvert_exporter": "python",
   "pygments_lexer": "ipython3",
   "version": "3.11.6"
  }
 },
 "nbformat": 4,
 "nbformat_minor": 5
}
