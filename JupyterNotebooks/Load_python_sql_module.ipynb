{
 "cells": [
  {
   "cell_type": "code",
   "execution_count": 1,
   "id": "abf576e3",
   "metadata": {},
   "outputs": [],
   "source": [
    "import warnings\n",
    "warnings.filterwarnings('ignore')\n",
    "\n",
    "import sys\n",
    "# Adds the parent directory to the system path\n",
    "sys.path.append('../')  \n",
    "\n",
    "import pandas as pd\n",
    "from python_sql.py_SQL import SQLConn"
   ]
  },
  {
   "cell_type": "code",
   "execution_count": 2,
   "id": "db8955ee",
   "metadata": {},
   "outputs": [
    {
     "name": "stdout",
     "output_type": "stream",
     "text": [
      "Database 'TICRawData' loaded.\n",
      "Class SQLConn active.\n"
     ]
    }
   ],
   "source": [
    "db_name = \"my_db\"\n",
    "db_name = \"TICRawData\"\n",
    "obj = SQLConn(db_name)\n",
    "# conn = obj._conn\n",
    "conn = obj._cursor\n",
    "print(str(obj))"
   ]
  },
  {
   "cell_type": "code",
   "execution_count": 23,
   "id": "2ab64232",
   "metadata": {},
   "outputs": [
    {
     "name": "stdout",
     "output_type": "stream",
     "text": [
      "Database 'my_db' loaded.\n",
      "Number of tables: 2\n",
      "('my_courses',)\n",
      "('stocks',)\n",
      "\n",
      "\t\tConnection Disconnected.\n"
     ]
    }
   ],
   "source": [
    "obj = SQLConn(db_name)\n",
    "obj.show_tables()"
   ]
  },
  {
   "cell_type": "code",
   "execution_count": null,
   "id": "a5407b84",
   "metadata": {},
   "outputs": [],
   "source": []
  },
  {
   "cell_type": "code",
   "execution_count": 24,
   "id": "1c37ef7c",
   "metadata": {},
   "outputs": [],
   "source": [
    "from python_sql.py_SQL import SQLConn, UpdateTable, ShowTable"
   ]
  },
  {
   "cell_type": "code",
   "execution_count": 67,
   "id": "3465df7d",
   "metadata": {},
   "outputs": [
    {
     "name": "stdout",
     "output_type": "stream",
     "text": [
      "Database 'my_db' loaded.\n",
      "Table stocks created successfully.\n",
      "\n",
      "\t\tConnection Disconnected.\n"
     ]
    }
   ],
   "source": [
    "table_nm = 'stocks'\n",
    "schema = \"(date VARCHAR, trans VARCHAR, symbol VARCHAR, qty DOUBLE, price DOUBLE)\"\n",
    "obj = UpdateTable(db_name, table_nm)\n",
    "obj.create_table(schema)\n"
   ]
  },
  {
   "cell_type": "code",
   "execution_count": 68,
   "id": "b47a0beb",
   "metadata": {},
   "outputs": [
    {
     "name": "stdout",
     "output_type": "stream",
     "text": [
      "Database 'my_db' loaded.\n",
      "Single row inserted into table stocks successfully.\n",
      "\n",
      "\t\tConnection Disconnected.\n"
     ]
    }
   ],
   "source": [
    "table_nm = 'stocks'\n",
    "data_tuple = \"('2024-08-03', 'BUY', 'GOOG', 108, 490.1)\"\n",
    "obj1 = UpdateTable(db_name, table_nm)\n",
    "obj1.insert_single_data_into_table(data_tuple)"
   ]
  },
  {
   "cell_type": "code",
   "execution_count": 29,
   "id": "eaa95167",
   "metadata": {},
   "outputs": [
    {
     "name": "stdout",
     "output_type": "stream",
     "text": [
      "Database 'my_db' loaded.\n",
      "Number of rows: 7\n",
      "('2024-08-03', 'BUY', 'GOOG', 108.0, 490.1)\n",
      "('2024-08-03', 'BUY', 'GOOG', 100.0, 490.1)\n",
      "('2024-08-03', 'BUY', 'GOOG', 101.0, 490.1)\n",
      "('2024-08-03', 'BUY', 'GOOG', 102.0, 490.1)\n",
      "('2024-08-03', 'BUY', 'GOOG', 103.0, 490.1)\n",
      "('2024-08-03', 'BUY', 'GOOG', 104.0, 490.1)\n",
      "('2024-08-03', 'BUY', 'GOOG', 105.0, 490.1)\n",
      "\n",
      "\t\tConnection Disconnected.\n"
     ]
    }
   ],
   "source": [
    "table_nm = 'stocks'\n",
    "obj1 = ShowTable(db_name, table_nm)\n",
    "obj1.show_table_data_all()"
   ]
  },
  {
   "cell_type": "code",
   "execution_count": 26,
   "id": "acffba31",
   "metadata": {},
   "outputs": [
    {
     "name": "stdout",
     "output_type": "stream",
     "text": [
      "Database 'my_db' loaded.\n",
      "Single row inserted into table stocks successfully.\n",
      "\n",
      "\t\tConnection Disconnected.\n"
     ]
    }
   ],
   "source": [
    "table_nm = 'stocks'\n",
    "data_tuple = \"('2024-08-03', 'BUY', 'GOOG', 100, 490.1),('2024-08-03', 'BUY', 'GOOG', 101, 490.1)\"\n",
    "obj1 = UpdateTable(db_name, table_nm)\n",
    "obj1.insert_single_data_into_table(data_tuple)"
   ]
  },
  {
   "cell_type": "code",
   "execution_count": 28,
   "id": "beb13cde",
   "metadata": {},
   "outputs": [
    {
     "name": "stdout",
     "output_type": "stream",
     "text": [
      "Database 'my_db' loaded.\n",
      "Single row inserted into table stocks successfully.\n",
      "\n",
      "\t\tConnection Disconnected.\n"
     ]
    }
   ],
   "source": [
    "table_nm = 'stocks'\n",
    "data_tuple = f\"\"\"('2024-08-03', 'BUY', 'GOOG', 102, 490.1),\n",
    "                 ('2024-08-03', 'BUY', 'GOOG', 103, 490.1),\n",
    "                 ('2024-08-03', 'BUY', 'GOOG', 104, 490.1),\n",
    "                 ('2024-08-03', 'BUY', 'GOOG', 105, 490.1),\n",
    "                 \"\"\"\n",
    "obj1 = UpdateTable(db_name, table_nm)\n",
    "obj1.insert_single_data_into_table(data_tuple)"
   ]
  },
  {
   "cell_type": "code",
   "execution_count": 33,
   "id": "2d9192f8",
   "metadata": {},
   "outputs": [
    {
     "data": {
      "text/plain": [
       "[('2024-08-03', 'BUY', 'GOOG', 108.0, 490.1),\n",
       " ('2024-08-03', 'BUY', 'GOOG', 104.0, 490.1),\n",
       " ('2024-08-03', 'BUY', 'GOOG', 105.0, 490.1)]"
      ]
     },
     "execution_count": 33,
     "metadata": {},
     "output_type": "execute_result"
    }
   ],
   "source": [
    "q = \"\"\"Select * FROM stocks WHERE qty>=104\"\"\"\n",
    "conn.execute(q).fetchall()"
   ]
  },
  {
   "cell_type": "code",
   "execution_count": null,
   "id": "c9d6fe75",
   "metadata": {},
   "outputs": [],
   "source": []
  },
  {
   "cell_type": "code",
   "execution_count": 70,
   "id": "8eb5e5dd",
   "metadata": {},
   "outputs": [
    {
     "name": "stdout",
     "output_type": "stream",
     "text": [
      "Database 'my_db' loaded.\n",
      "Number of rows: 1\n",
      "\n",
      "\t\tConnection Disconnected.\n"
     ]
    },
    {
     "data": {
      "text/html": [
       "<div>\n",
       "<style scoped>\n",
       "    .dataframe tbody tr th:only-of-type {\n",
       "        vertical-align: middle;\n",
       "    }\n",
       "\n",
       "    .dataframe tbody tr th {\n",
       "        vertical-align: top;\n",
       "    }\n",
       "\n",
       "    .dataframe thead th {\n",
       "        text-align: right;\n",
       "    }\n",
       "</style>\n",
       "<table border=\"1\" class=\"dataframe\">\n",
       "  <thead>\n",
       "    <tr style=\"text-align: right;\">\n",
       "      <th></th>\n",
       "      <th>0</th>\n",
       "      <th>1</th>\n",
       "      <th>2</th>\n",
       "      <th>3</th>\n",
       "      <th>4</th>\n",
       "    </tr>\n",
       "  </thead>\n",
       "  <tbody>\n",
       "    <tr>\n",
       "      <th>0</th>\n",
       "      <td>2024-08-03</td>\n",
       "      <td>BUY</td>\n",
       "      <td>GOOG</td>\n",
       "      <td>108.0</td>\n",
       "      <td>490.1</td>\n",
       "    </tr>\n",
       "  </tbody>\n",
       "</table>\n",
       "</div>"
      ],
      "text/plain": [
       "            0    1     2      3      4\n",
       "0  2024-08-03  BUY  GOOG  108.0  490.1"
      ]
     },
     "execution_count": 70,
     "metadata": {},
     "output_type": "execute_result"
    }
   ],
   "source": [
    "obj1 = ShowTable(db_name, table_nm)\n",
    "df = obj1.table_data_to_df()\n",
    "df"
   ]
  },
  {
   "cell_type": "code",
   "execution_count": 72,
   "id": "7196ec79",
   "metadata": {},
   "outputs": [
    {
     "name": "stdout",
     "output_type": "stream",
     "text": [
      "Database 'my_db' loaded.\n",
      "Table my_courses created successfully.\n",
      "\n",
      "\t\tConnection Disconnected.\n"
     ]
    }
   ],
   "source": [
    "table_nm = 'my_courses'\n",
    "schema = \"(course_id INTEGER, course_name VARCHAR, price FLOAT)\"\n",
    "obj = UpdateTable(db_name, table_nm)\n",
    "obj.create_table(schema)"
   ]
  },
  {
   "cell_type": "code",
   "execution_count": 74,
   "id": "5bfae56c",
   "metadata": {},
   "outputs": [
    {
     "name": "stdout",
     "output_type": "stream",
     "text": [
      "Database 'my_db' loaded.\n",
      "Number of rows: 0\n",
      "\n",
      "\t\tConnection Disconnected.\n"
     ]
    }
   ],
   "source": [
    "obj1 = ShowTable(db_name, table_nm)\n",
    "obj1.show_table_data_all()"
   ]
  },
  {
   "cell_type": "code",
   "execution_count": 5,
   "id": "f96146e3",
   "metadata": {},
   "outputs": [
    {
     "name": "stdout",
     "output_type": "stream",
     "text": [
      "Database 'my_db' loaded.\n",
      "Data from csv courses.csv inserted into table my_courses successfully.\n",
      "\n",
      "\t\tConnection Disconnected.\n"
     ]
    }
   ],
   "source": [
    "table_nm = 'my_courses'\n",
    "obj = UpdateTable(db_name, table_nm)\n",
    "obj.insert_csv_file_data_into_table(\"courses.csv\")"
   ]
  },
  {
   "cell_type": "code",
   "execution_count": 6,
   "id": "a85e66a6",
   "metadata": {},
   "outputs": [
    {
     "name": "stdout",
     "output_type": "stream",
     "text": [
      "Database 'my_db' loaded.\n",
      "Number of rows: 12\n",
      "(1, 'python', 2499.0)\n",
      "(2, 'sql', 3499.0)\n",
      "(3, 'data analysis', 4999.0)\n",
      "(4, 'machine learning', 9999.0)\n",
      "(5, 'tableau', 2499.0)\n",
      "(6, 'power bi', 1899.0)\n",
      "(7, 'ms sxcel', 1599.0)\n",
      "(8, 'pandas', 1099.0)\n",
      "(9, 'plotly', 699.0)\n",
      "(10, 'pyspark', 2499.0)\n",
      "(11, 'Numpy', 699.0)\n",
      "(12, 'C++', 1299.0)\n",
      "\n",
      "\t\tConnection Disconnected.\n"
     ]
    }
   ],
   "source": [
    "table_nm = 'my_courses'\n",
    "obj1 = ShowTable(db_name, table_nm)\n",
    "obj1.show_table_data_all()"
   ]
  },
  {
   "cell_type": "markdown",
   "id": "eeb975a0",
   "metadata": {},
   "source": [
    "# Insert data into table by dataframe (append)"
   ]
  },
  {
   "cell_type": "code",
   "execution_count": 20,
   "id": "dd8fe286",
   "metadata": {},
   "outputs": [
    {
     "name": "stdout",
     "output_type": "stream",
     "text": [
      "Database 'my_db' loaded.\n",
      "Class SQLConn active.\n"
     ]
    }
   ],
   "source": [
    "db_name = \"my_db\"\n",
    "obj = SQLConn(db_name)\n",
    "print(str(obj))\n",
    "conn = obj._conn"
   ]
  },
  {
   "cell_type": "code",
   "execution_count": 17,
   "id": "79ff590b",
   "metadata": {
    "scrolled": true
   },
   "outputs": [
    {
     "data": {
      "text/html": [
       "<div>\n",
       "<style scoped>\n",
       "    .dataframe tbody tr th:only-of-type {\n",
       "        vertical-align: middle;\n",
       "    }\n",
       "\n",
       "    .dataframe tbody tr th {\n",
       "        vertical-align: top;\n",
       "    }\n",
       "\n",
       "    .dataframe thead th {\n",
       "        text-align: right;\n",
       "    }\n",
       "</style>\n",
       "<table border=\"1\" class=\"dataframe\">\n",
       "  <thead>\n",
       "    <tr style=\"text-align: right;\">\n",
       "      <th></th>\n",
       "      <th>course_id</th>\n",
       "      <th>course_name</th>\n",
       "      <th>price</th>\n",
       "    </tr>\n",
       "  </thead>\n",
       "  <tbody>\n",
       "    <tr>\n",
       "      <th>0</th>\n",
       "      <td>13</td>\n",
       "      <td>C#</td>\n",
       "      <td>1399</td>\n",
       "    </tr>\n",
       "    <tr>\n",
       "      <th>1</th>\n",
       "      <td>14</td>\n",
       "      <td>NodeJS</td>\n",
       "      <td>1599</td>\n",
       "    </tr>\n",
       "  </tbody>\n",
       "</table>\n",
       "</div>"
      ],
      "text/plain": [
       "   course_id course_name  price\n",
       "0         13          C#   1399\n",
       "1         14      NodeJS   1599"
      ]
     },
     "execution_count": 17,
     "metadata": {},
     "output_type": "execute_result"
    }
   ],
   "source": [
    "df = pd.DataFrame({'course_id': [13,14], 'course_name': ['C#', 'NodeJS'], 'price': [1399, 1599]})\n",
    "df"
   ]
  },
  {
   "cell_type": "code",
   "execution_count": 18,
   "id": "3adea634",
   "metadata": {},
   "outputs": [
    {
     "data": {
      "text/plain": [
       "-1"
      ]
     },
     "execution_count": 18,
     "metadata": {},
     "output_type": "execute_result"
    }
   ],
   "source": [
    "# Insert data from the DataFrame into the table\n",
    "df.to_sql('my_courses', conn, if_exists='append', index=False)\n"
   ]
  },
  {
   "cell_type": "code",
   "execution_count": 19,
   "id": "167731a0",
   "metadata": {},
   "outputs": [
    {
     "name": "stdout",
     "output_type": "stream",
     "text": [
      "    course_id       course_name   price\n",
      "0           1            python  2499.0\n",
      "1           2               sql  3499.0\n",
      "2           3     data analysis  4999.0\n",
      "3           4  machine learning  9999.0\n",
      "4           5           tableau  2499.0\n",
      "5           6          power bi  1899.0\n",
      "6           7          ms sxcel  1599.0\n",
      "7           8            pandas  1099.0\n",
      "8           9            plotly   699.0\n",
      "9          10           pyspark  2499.0\n",
      "10         11             Numpy   699.0\n",
      "11         12               C++  1299.0\n",
      "12         13                C#  1399.0\n",
      "13         14            NodeJS  1599.0\n"
     ]
    }
   ],
   "source": [
    "\n",
    "# Query the table\n",
    "result = conn.execute(\"SELECT * FROM my_courses\").fetchdf()\n",
    "print(result)"
   ]
  },
  {
   "cell_type": "code",
   "execution_count": 21,
   "id": "6868ffbe",
   "metadata": {},
   "outputs": [
    {
     "name": "stdout",
     "output_type": "stream",
     "text": [
      "\n",
      "\t\tConnection Disconnected.\n"
     ]
    }
   ],
   "source": [
    "obj.close_conn_db()"
   ]
  },
  {
   "cell_type": "markdown",
   "id": "b87b5bfa",
   "metadata": {},
   "source": [
    "# CSV file to Data File"
   ]
  },
  {
   "cell_type": "code",
   "execution_count": 51,
   "id": "530ccd26",
   "metadata": {},
   "outputs": [],
   "source": [
    "import duckdb\n",
    "import pandas as pd\n"
   ]
  },
  {
   "cell_type": "code",
   "execution_count": 52,
   "id": "40cafec6",
   "metadata": {},
   "outputs": [
    {
     "data": {
      "text/html": [
       "<div>\n",
       "<style scoped>\n",
       "    .dataframe tbody tr th:only-of-type {\n",
       "        vertical-align: middle;\n",
       "    }\n",
       "\n",
       "    .dataframe tbody tr th {\n",
       "        vertical-align: top;\n",
       "    }\n",
       "\n",
       "    .dataframe thead th {\n",
       "        text-align: right;\n",
       "    }\n",
       "</style>\n",
       "<table border=\"1\" class=\"dataframe\">\n",
       "  <thead>\n",
       "    <tr style=\"text-align: right;\">\n",
       "      <th></th>\n",
       "      <th>course_id</th>\n",
       "      <th>course_name</th>\n",
       "      <th>price</th>\n",
       "    </tr>\n",
       "  </thead>\n",
       "  <tbody>\n",
       "    <tr>\n",
       "      <th>0</th>\n",
       "      <td>1</td>\n",
       "      <td>python</td>\n",
       "      <td>2499</td>\n",
       "    </tr>\n",
       "    <tr>\n",
       "      <th>1</th>\n",
       "      <td>2</td>\n",
       "      <td>sql</td>\n",
       "      <td>3499</td>\n",
       "    </tr>\n",
       "    <tr>\n",
       "      <th>2</th>\n",
       "      <td>3</td>\n",
       "      <td>data analysis</td>\n",
       "      <td>4999</td>\n",
       "    </tr>\n",
       "    <tr>\n",
       "      <th>3</th>\n",
       "      <td>4</td>\n",
       "      <td>machine learning</td>\n",
       "      <td>9999</td>\n",
       "    </tr>\n",
       "    <tr>\n",
       "      <th>4</th>\n",
       "      <td>5</td>\n",
       "      <td>tableau</td>\n",
       "      <td>2499</td>\n",
       "    </tr>\n",
       "    <tr>\n",
       "      <th>5</th>\n",
       "      <td>6</td>\n",
       "      <td>power bi</td>\n",
       "      <td>1899</td>\n",
       "    </tr>\n",
       "    <tr>\n",
       "      <th>6</th>\n",
       "      <td>7</td>\n",
       "      <td>ms sxcel</td>\n",
       "      <td>1599</td>\n",
       "    </tr>\n",
       "    <tr>\n",
       "      <th>7</th>\n",
       "      <td>8</td>\n",
       "      <td>pandas</td>\n",
       "      <td>1099</td>\n",
       "    </tr>\n",
       "    <tr>\n",
       "      <th>8</th>\n",
       "      <td>9</td>\n",
       "      <td>plotly</td>\n",
       "      <td>699</td>\n",
       "    </tr>\n",
       "    <tr>\n",
       "      <th>9</th>\n",
       "      <td>10</td>\n",
       "      <td>pyspark</td>\n",
       "      <td>2499</td>\n",
       "    </tr>\n",
       "    <tr>\n",
       "      <th>10</th>\n",
       "      <td>11</td>\n",
       "      <td>Numpy</td>\n",
       "      <td>699</td>\n",
       "    </tr>\n",
       "    <tr>\n",
       "      <th>11</th>\n",
       "      <td>12</td>\n",
       "      <td>C++</td>\n",
       "      <td>1299</td>\n",
       "    </tr>\n",
       "  </tbody>\n",
       "</table>\n",
       "</div>"
      ],
      "text/plain": [
       "    course_id       course_name  price\n",
       "0           1            python   2499\n",
       "1           2               sql   3499\n",
       "2           3     data analysis   4999\n",
       "3           4  machine learning   9999\n",
       "4           5           tableau   2499\n",
       "5           6          power bi   1899\n",
       "6           7          ms sxcel   1599\n",
       "7           8            pandas   1099\n",
       "8           9            plotly    699\n",
       "9          10           pyspark   2499\n",
       "10         11             Numpy    699\n",
       "11         12               C++   1299"
      ]
     },
     "execution_count": 52,
     "metadata": {},
     "output_type": "execute_result"
    }
   ],
   "source": [
    "pd.read_csv(\"courses.csv\")"
   ]
  },
  {
   "cell_type": "code",
   "execution_count": 53,
   "id": "f8651921",
   "metadata": {},
   "outputs": [],
   "source": [
    "# Connect to DuckDB (create a new database if it doesn't exist)\n",
    "conn = duckdb.connect(database='courses.db')"
   ]
  },
  {
   "cell_type": "code",
   "execution_count": 54,
   "id": "69b7ef8b",
   "metadata": {},
   "outputs": [
    {
     "data": {
      "text/plain": [
       "<duckdb.duckdb.DuckDBPyConnection at 0x26027fb5fb0>"
      ]
     },
     "execution_count": 54,
     "metadata": {},
     "output_type": "execute_result"
    }
   ],
   "source": [
    "# Example CREATE TABLE statement\n",
    "conn.execute(\"\"\"\n",
    "CREATE TABLE IF NOT EXISTS my_courses (\n",
    "    course_id INTEGER,\n",
    "    course_name VARCHAR,\n",
    "    price FLOAT\n",
    ")\n",
    "\"\"\")"
   ]
  },
  {
   "cell_type": "code",
   "execution_count": 57,
   "id": "d56ea240",
   "metadata": {},
   "outputs": [
    {
     "data": {
      "text/plain": [
       "[('my_courses',)]"
      ]
     },
     "execution_count": 57,
     "metadata": {},
     "output_type": "execute_result"
    }
   ],
   "source": [
    "conn.execute(\"SHOW TABLES;\").fetchall()"
   ]
  },
  {
   "cell_type": "code",
   "execution_count": 58,
   "id": "40679f73",
   "metadata": {},
   "outputs": [
    {
     "data": {
      "text/plain": [
       "<duckdb.duckdb.DuckDBPyConnection at 0x26027fb5fb0>"
      ]
     },
     "execution_count": 58,
     "metadata": {},
     "output_type": "execute_result"
    }
   ],
   "source": [
    "# Path to your CSV file\n",
    "csv_file_path = \"courses.csv\"\n",
    "\n",
    "# Load data from CSV into DuckDB table\n",
    "conn.execute(f\"COPY my_courses FROM '{csv_file_path}' (FORMAT 'csv')\")\n"
   ]
  },
  {
   "cell_type": "code",
   "execution_count": 59,
   "id": "d3f62e2e",
   "metadata": {},
   "outputs": [
    {
     "data": {
      "text/plain": [
       "[(1, 'python', 2499.0),\n",
       " (2, 'sql', 3499.0),\n",
       " (3, 'data analysis', 4999.0),\n",
       " (4, 'machine learning', 9999.0),\n",
       " (5, 'tableau', 2499.0),\n",
       " (6, 'power bi', 1899.0),\n",
       " (7, 'ms sxcel', 1599.0),\n",
       " (8, 'pandas', 1099.0),\n",
       " (9, 'plotly', 699.0),\n",
       " (10, 'pyspark', 2499.0),\n",
       " (11, 'Numpy', 699.0),\n",
       " (12, 'C++', 1299.0)]"
      ]
     },
     "execution_count": 59,
     "metadata": {},
     "output_type": "execute_result"
    }
   ],
   "source": [
    "# Query the data(course_id INTEGER, course_name VARCHAR, price FLOAT)\n",
    "results = conn.execute('SELECT * FROM my_courses').fetchall()\n",
    "results"
   ]
  },
  {
   "cell_type": "code",
   "execution_count": null,
   "id": "2b3f4b74",
   "metadata": {},
   "outputs": [],
   "source": []
  },
  {
   "cell_type": "code",
   "execution_count": 44,
   "id": "7c7d34dd",
   "metadata": {},
   "outputs": [
    {
     "name": "stdout",
     "output_type": "stream",
     "text": [
      "(1, 'Alice', 30)\n",
      "(2, 'Bob', 25)\n",
      "(3, 'Charlie', 35)\n",
      "(1, 'Alice', 30)\n",
      "(2, 'Bob', 25)\n",
      "(3, 'Charlie', 35)\n"
     ]
    }
   ],
   "source": [
    "import duckdb\n",
    "\n",
    "# Connect to a DuckDB database file (or create it if it doesn't exist)\n",
    "con = duckdb.connect('my_database.db')\n",
    "\n",
    "# Create a table\n",
    "con.execute('''\n",
    "CREATE TABLE IF NOT EXISTS users (\n",
    "    id INTEGER,\n",
    "    name VARCHAR,\n",
    "    age INTEGER\n",
    ")\n",
    "''')\n",
    "\n",
    "# Insert data into the table\n",
    "con.execute('''\n",
    "INSERT INTO users (id, name, age) VALUES\n",
    "(1, 'Alice', 30),\n",
    "(2, 'Bob', 25),\n",
    "(3, 'Charlie', 35)\n",
    "''')\n",
    "\n",
    "# Query the data\n",
    "results = con.execute('SELECT * FROM users').fetchall()\n",
    "\n",
    "# Print the results\n",
    "for row in results:\n",
    "    print(row)"
   ]
  },
  {
   "cell_type": "code",
   "execution_count": 47,
   "id": "d712901f",
   "metadata": {},
   "outputs": [],
   "source": [
    "dir_name = 'my_db'\n",
    "export_db_csv(dir_name)"
   ]
  },
  {
   "cell_type": "code",
   "execution_count": 49,
   "id": "d1237819",
   "metadata": {},
   "outputs": [
    {
     "data": {
      "text/plain": [
       "[(1, 'Alice', 30),\n",
       " (2, 'Bob', 25),\n",
       " (3, 'Charlie', 35),\n",
       " (1, 'Alice', 30),\n",
       " (2, 'Bob', 25),\n",
       " (3, 'Charlie', 35)]"
      ]
     },
     "execution_count": 49,
     "metadata": {},
     "output_type": "execute_result"
    }
   ],
   "source": [
    "# Query the data\n",
    "results = con1.execute('SELECT * FROM users').fetchall()\n",
    "results"
   ]
  },
  {
   "cell_type": "code",
   "execution_count": null,
   "id": "827115e3",
   "metadata": {},
   "outputs": [],
   "source": []
  }
 ],
 "metadata": {
  "kernelspec": {
   "display_name": "Venv_DuckDB_Python311",
   "language": "python",
   "name": "venv_duckdb_python311"
  },
  "language_info": {
   "codemirror_mode": {
    "name": "ipython",
    "version": 3
   },
   "file_extension": ".py",
   "mimetype": "text/x-python",
   "name": "python",
   "nbconvert_exporter": "python",
   "pygments_lexer": "ipython3",
   "version": "3.11.6"
  }
 },
 "nbformat": 4,
 "nbformat_minor": 5
}
