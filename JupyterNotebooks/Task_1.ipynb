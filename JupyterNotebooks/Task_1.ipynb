{
 "cells": [
  {
   "cell_type": "code",
   "execution_count": 6,
   "id": "3d969d4b",
   "metadata": {},
   "outputs": [
    {
     "name": "stdout",
     "output_type": "stream",
     "text": [
      "Database 'my_db' loaded.\n"
     ]
    }
   ],
   "source": [
    "import warnings\n",
    "warnings.filterwarnings('ignore')\n",
    "\n",
    "import sys\n",
    "# Adds the parent directory to the system path\n",
    "sys.path.append('../')  \n",
    "\n",
    "import pandas as pd\n",
    "from python_sql.py_SQL import SQLConn, UpdateTable, ShowTable\n",
    "\n",
    "db_name = \"my_db\"\n",
    "obj = SQLConn(db_name)\n",
    "sql = obj._cursor"
   ]
  },
  {
   "cell_type": "code",
   "execution_count": 7,
   "id": "caea8757",
   "metadata": {},
   "outputs": [
    {
     "data": {
      "text/html": [
       "<div>\n",
       "<style scoped>\n",
       "    .dataframe tbody tr th:only-of-type {\n",
       "        vertical-align: middle;\n",
       "    }\n",
       "\n",
       "    .dataframe tbody tr th {\n",
       "        vertical-align: top;\n",
       "    }\n",
       "\n",
       "    .dataframe thead th {\n",
       "        text-align: right;\n",
       "    }\n",
       "</style>\n",
       "<table border=\"1\" class=\"dataframe\">\n",
       "  <thead>\n",
       "    <tr style=\"text-align: right;\">\n",
       "      <th></th>\n",
       "      <th>name</th>\n",
       "      <th>age</th>\n",
       "    </tr>\n",
       "  </thead>\n",
       "  <tbody>\n",
       "    <tr>\n",
       "      <th>0</th>\n",
       "      <td>Alice</td>\n",
       "      <td>25</td>\n",
       "    </tr>\n",
       "    <tr>\n",
       "      <th>1</th>\n",
       "      <td>Bob</td>\n",
       "      <td>30</td>\n",
       "    </tr>\n",
       "    <tr>\n",
       "      <th>2</th>\n",
       "      <td>Charlie</td>\n",
       "      <td>35</td>\n",
       "    </tr>\n",
       "  </tbody>\n",
       "</table>\n",
       "</div>"
      ],
      "text/plain": [
       "      name  age\n",
       "0    Alice   25\n",
       "1      Bob   30\n",
       "2  Charlie   35"
      ]
     },
     "execution_count": 7,
     "metadata": {},
     "output_type": "execute_result"
    }
   ],
   "source": [
    "# Sample DataFrame\n",
    "df = pd.DataFrame({\n",
    "    'name': ['Alice', 'Bob', 'Charlie'],\n",
    "    'age': [25, 30, 35]\n",
    "})\n",
    "\n",
    "# Sample DataFrame\n",
    "df2 = pd.DataFrame({\n",
    "    'name': ['Alice', 'Bob', 'David'],\n",
    "    'salary': [50000, 60000, 70000]\n",
    "})\n",
    "df"
   ]
  },
  {
   "cell_type": "code",
   "execution_count": 8,
   "id": "f07f56a4",
   "metadata": {},
   "outputs": [
    {
     "data": {
      "text/html": [
       "<div>\n",
       "<style scoped>\n",
       "    .dataframe tbody tr th:only-of-type {\n",
       "        vertical-align: middle;\n",
       "    }\n",
       "\n",
       "    .dataframe tbody tr th {\n",
       "        vertical-align: top;\n",
       "    }\n",
       "\n",
       "    .dataframe thead th {\n",
       "        text-align: right;\n",
       "    }\n",
       "</style>\n",
       "<table border=\"1\" class=\"dataframe\">\n",
       "  <thead>\n",
       "    <tr style=\"text-align: right;\">\n",
       "      <th></th>\n",
       "      <th>name</th>\n",
       "      <th>salary</th>\n",
       "    </tr>\n",
       "  </thead>\n",
       "  <tbody>\n",
       "    <tr>\n",
       "      <th>0</th>\n",
       "      <td>Alice</td>\n",
       "      <td>50000</td>\n",
       "    </tr>\n",
       "    <tr>\n",
       "      <th>1</th>\n",
       "      <td>Bob</td>\n",
       "      <td>60000</td>\n",
       "    </tr>\n",
       "    <tr>\n",
       "      <th>2</th>\n",
       "      <td>David</td>\n",
       "      <td>70000</td>\n",
       "    </tr>\n",
       "  </tbody>\n",
       "</table>\n",
       "</div>"
      ],
      "text/plain": [
       "    name  salary\n",
       "0  Alice   50000\n",
       "1    Bob   60000\n",
       "2  David   70000"
      ]
     },
     "execution_count": 8,
     "metadata": {},
     "output_type": "execute_result"
    }
   ],
   "source": [
    "df2"
   ]
  },
  {
   "cell_type": "code",
   "execution_count": 15,
   "id": "a307ed5a",
   "metadata": {},
   "outputs": [
    {
     "data": {
      "text/plain": [
       "<duckdb.duckdb.DuckDBPyConnection at 0x18c3409e130>"
      ]
     },
     "execution_count": 15,
     "metadata": {},
     "output_type": "execute_result"
    }
   ],
   "source": [
    "# Save DataFrame to a DuckDB table\n",
    "# Register the second DataFrame\n",
    "# sql.register('salary_table', df2)\n",
    "\n",
    "sql.execute(\"CREATE TABLE my_table AS SELECT * FROM df\")\n",
    "sql.execute(\"CREATE TABLE salary_table AS SELECT * FROM df2\")"
   ]
  },
  {
   "cell_type": "code",
   "execution_count": 13,
   "id": "7c4fb3a3",
   "metadata": {},
   "outputs": [
    {
     "data": {
      "text/html": [
       "<div>\n",
       "<style scoped>\n",
       "    .dataframe tbody tr th:only-of-type {\n",
       "        vertical-align: middle;\n",
       "    }\n",
       "\n",
       "    .dataframe tbody tr th {\n",
       "        vertical-align: top;\n",
       "    }\n",
       "\n",
       "    .dataframe thead th {\n",
       "        text-align: right;\n",
       "    }\n",
       "</style>\n",
       "<table border=\"1\" class=\"dataframe\">\n",
       "  <thead>\n",
       "    <tr style=\"text-align: right;\">\n",
       "      <th></th>\n",
       "      <th>name</th>\n",
       "      <th>age</th>\n",
       "    </tr>\n",
       "  </thead>\n",
       "  <tbody>\n",
       "    <tr>\n",
       "      <th>0</th>\n",
       "      <td>Alice</td>\n",
       "      <td>25</td>\n",
       "    </tr>\n",
       "    <tr>\n",
       "      <th>1</th>\n",
       "      <td>Bob</td>\n",
       "      <td>30</td>\n",
       "    </tr>\n",
       "    <tr>\n",
       "      <th>2</th>\n",
       "      <td>Charlie</td>\n",
       "      <td>35</td>\n",
       "    </tr>\n",
       "  </tbody>\n",
       "</table>\n",
       "</div>"
      ],
      "text/plain": [
       "      name  age\n",
       "0    Alice   25\n",
       "1      Bob   30\n",
       "2  Charlie   35"
      ]
     },
     "execution_count": 13,
     "metadata": {},
     "output_type": "execute_result"
    }
   ],
   "source": [
    "result = sql.execute(\"SELECT * FROM my_table\").fetchdf()\n",
    "result"
   ]
  },
  {
   "cell_type": "code",
   "execution_count": 16,
   "id": "4064cffe",
   "metadata": {},
   "outputs": [
    {
     "data": {
      "text/html": [
       "<div>\n",
       "<style scoped>\n",
       "    .dataframe tbody tr th:only-of-type {\n",
       "        vertical-align: middle;\n",
       "    }\n",
       "\n",
       "    .dataframe tbody tr th {\n",
       "        vertical-align: top;\n",
       "    }\n",
       "\n",
       "    .dataframe thead th {\n",
       "        text-align: right;\n",
       "    }\n",
       "</style>\n",
       "<table border=\"1\" class=\"dataframe\">\n",
       "  <thead>\n",
       "    <tr style=\"text-align: right;\">\n",
       "      <th></th>\n",
       "      <th>name</th>\n",
       "      <th>salary</th>\n",
       "    </tr>\n",
       "  </thead>\n",
       "  <tbody>\n",
       "    <tr>\n",
       "      <th>0</th>\n",
       "      <td>Alice</td>\n",
       "      <td>50000</td>\n",
       "    </tr>\n",
       "    <tr>\n",
       "      <th>1</th>\n",
       "      <td>Bob</td>\n",
       "      <td>60000</td>\n",
       "    </tr>\n",
       "    <tr>\n",
       "      <th>2</th>\n",
       "      <td>David</td>\n",
       "      <td>70000</td>\n",
       "    </tr>\n",
       "  </tbody>\n",
       "</table>\n",
       "</div>"
      ],
      "text/plain": [
       "    name  salary\n",
       "0  Alice   50000\n",
       "1    Bob   60000\n",
       "2  David   70000"
      ]
     },
     "execution_count": 16,
     "metadata": {},
     "output_type": "execute_result"
    }
   ],
   "source": [
    "sql.execute('SELECT * FROM salary_table').fetchdf()"
   ]
  },
  {
   "cell_type": "code",
   "execution_count": 17,
   "id": "354b5504",
   "metadata": {},
   "outputs": [
    {
     "name": "stdout",
     "output_type": "stream",
     "text": [
      "    name  age  salary\n",
      "0  Alice   25   50000\n",
      "1    Bob   30   60000\n"
     ]
    }
   ],
   "source": [
    "# Perform a join\n",
    "result = sql.execute(\"\"\"\n",
    "    SELECT my_table.name, my_table.age, salary_table.salary\n",
    "    FROM my_table\n",
    "    JOIN salary_table\n",
    "    ON my_table.name = salary_table.name\n",
    "\"\"\").fetchdf()\n",
    "\n",
    "print(result)"
   ]
  },
  {
   "cell_type": "code",
   "execution_count": 60,
   "id": "6a496657",
   "metadata": {
    "scrolled": true
   },
   "outputs": [
    {
     "data": {
      "text/html": [
       "<div>\n",
       "<style scoped>\n",
       "    .dataframe tbody tr th:only-of-type {\n",
       "        vertical-align: middle;\n",
       "    }\n",
       "\n",
       "    .dataframe tbody tr th {\n",
       "        vertical-align: top;\n",
       "    }\n",
       "\n",
       "    .dataframe thead th {\n",
       "        text-align: right;\n",
       "    }\n",
       "</style>\n",
       "<table border=\"1\" class=\"dataframe\">\n",
       "  <thead>\n",
       "    <tr style=\"text-align: right;\">\n",
       "      <th></th>\n",
       "      <th>EmployeeID</th>\n",
       "      <th>FirstName</th>\n",
       "      <th>LastName</th>\n",
       "      <th>BirthDate</th>\n",
       "      <th>Salary</th>\n",
       "    </tr>\n",
       "  </thead>\n",
       "  <tbody>\n",
       "    <tr>\n",
       "      <th>0</th>\n",
       "      <td>1</td>\n",
       "      <td>John</td>\n",
       "      <td>Doe</td>\n",
       "      <td>1980-01-01</td>\n",
       "      <td>50000.0</td>\n",
       "    </tr>\n",
       "    <tr>\n",
       "      <th>1</th>\n",
       "      <td>2</td>\n",
       "      <td>Jane</td>\n",
       "      <td>Smith</td>\n",
       "      <td>1985-02-15</td>\n",
       "      <td>55000.0</td>\n",
       "    </tr>\n",
       "    <tr>\n",
       "      <th>2</th>\n",
       "      <td>3</td>\n",
       "      <td>Michael</td>\n",
       "      <td>Johnson</td>\n",
       "      <td>1990-03-10</td>\n",
       "      <td>60000.0</td>\n",
       "    </tr>\n",
       "    <tr>\n",
       "      <th>3</th>\n",
       "      <td>4</td>\n",
       "      <td>Emily</td>\n",
       "      <td>Davis</td>\n",
       "      <td>1975-04-20</td>\n",
       "      <td>62000.0</td>\n",
       "    </tr>\n",
       "    <tr>\n",
       "      <th>4</th>\n",
       "      <td>5</td>\n",
       "      <td>Chris</td>\n",
       "      <td>Brown</td>\n",
       "      <td>1988-05-25</td>\n",
       "      <td>58000.0</td>\n",
       "    </tr>\n",
       "    <tr>\n",
       "      <th>5</th>\n",
       "      <td>6</td>\n",
       "      <td>Jessica</td>\n",
       "      <td>Wilson</td>\n",
       "      <td>1992-06-30</td>\n",
       "      <td>53000.0</td>\n",
       "    </tr>\n",
       "    <tr>\n",
       "      <th>6</th>\n",
       "      <td>7</td>\n",
       "      <td>David</td>\n",
       "      <td>Martinez</td>\n",
       "      <td>1983-07-14</td>\n",
       "      <td>64000.0</td>\n",
       "    </tr>\n",
       "    <tr>\n",
       "      <th>7</th>\n",
       "      <td>8</td>\n",
       "      <td>Sarah</td>\n",
       "      <td>Anderson</td>\n",
       "      <td>1979-08-05</td>\n",
       "      <td>59000.0</td>\n",
       "    </tr>\n",
       "    <tr>\n",
       "      <th>8</th>\n",
       "      <td>9</td>\n",
       "      <td>James</td>\n",
       "      <td>Taylor</td>\n",
       "      <td>1995-09-21</td>\n",
       "      <td>52000.0</td>\n",
       "    </tr>\n",
       "    <tr>\n",
       "      <th>9</th>\n",
       "      <td>10</td>\n",
       "      <td>Laura</td>\n",
       "      <td>Thomas</td>\n",
       "      <td>1982-10-18</td>\n",
       "      <td>61000.0</td>\n",
       "    </tr>\n",
       "    <tr>\n",
       "      <th>10</th>\n",
       "      <td>11</td>\n",
       "      <td>John1</td>\n",
       "      <td>Doe1</td>\n",
       "      <td>1980-01-01</td>\n",
       "      <td>55000.0</td>\n",
       "    </tr>\n",
       "  </tbody>\n",
       "</table>\n",
       "</div>"
      ],
      "text/plain": [
       "    EmployeeID FirstName  LastName  BirthDate   Salary\n",
       "0            1      John       Doe 1980-01-01  50000.0\n",
       "1            2      Jane     Smith 1985-02-15  55000.0\n",
       "2            3   Michael   Johnson 1990-03-10  60000.0\n",
       "3            4     Emily     Davis 1975-04-20  62000.0\n",
       "4            5     Chris     Brown 1988-05-25  58000.0\n",
       "5            6   Jessica    Wilson 1992-06-30  53000.0\n",
       "6            7     David  Martinez 1983-07-14  64000.0\n",
       "7            8     Sarah  Anderson 1979-08-05  59000.0\n",
       "8            9     James    Taylor 1995-09-21  52000.0\n",
       "9           10     Laura    Thomas 1982-10-18  61000.0\n",
       "10          11     John1      Doe1 1980-01-01  55000.0"
      ]
     },
     "execution_count": 60,
     "metadata": {},
     "output_type": "execute_result"
    }
   ],
   "source": [
    "sql.execute('SELECT * FROM Employees').fetchdf()"
   ]
  },
  {
   "cell_type": "code",
   "execution_count": 18,
   "id": "e017ebf1",
   "metadata": {},
   "outputs": [],
   "source": [
    "# Register DataFrame as a table\n",
    "# sql.register('my_table', df)"
   ]
  },
  {
   "cell_type": "code",
   "execution_count": 19,
   "id": "b155bc79",
   "metadata": {},
   "outputs": [
    {
     "data": {
      "text/plain": [
       "[('Departments',), ('Employees',), ('my_table',), ('salary_table',)]"
      ]
     },
     "execution_count": 19,
     "metadata": {},
     "output_type": "execute_result"
    }
   ],
   "source": [
    "sql.execute(\"\"\"SHOW TABLES;\"\"\").fetchall()"
   ]
  },
  {
   "cell_type": "code",
   "execution_count": 20,
   "id": "1ece6b8d",
   "metadata": {},
   "outputs": [],
   "source": [
    "# sql.commit()"
   ]
  },
  {
   "cell_type": "code",
   "execution_count": 21,
   "id": "f2f7c83e",
   "metadata": {},
   "outputs": [
    {
     "name": "stdout",
     "output_type": "stream",
     "text": [
      "Database 'my_db' loaded.\n",
      "Number of tables: 4\n",
      "('Departments',)\n",
      "('Employees',)\n",
      "('my_table',)\n",
      "('salary_table',)\n",
      "\n",
      "\t\tConnection Disconnected.\n"
     ]
    }
   ],
   "source": [
    "obj = SQLConn(db_name)\n",
    "obj.show_tables()"
   ]
  },
  {
   "cell_type": "code",
   "execution_count": null,
   "id": "ddd4cd17",
   "metadata": {},
   "outputs": [],
   "source": []
  },
  {
   "cell_type": "code",
   "execution_count": 27,
   "id": "4f5b26e2",
   "metadata": {},
   "outputs": [
    {
     "name": "stdout",
     "output_type": "stream",
     "text": [
      "Database 'my_db' loaded.\n",
      "Class SQLConn active.\n"
     ]
    }
   ],
   "source": [
    "obj = SQLConn(db_name)\n",
    "# conn = obj._conn\n",
    "conn = obj._cursor\n",
    "print(str(obj))"
   ]
  },
  {
   "cell_type": "code",
   "execution_count": 28,
   "id": "3c3f5688",
   "metadata": {},
   "outputs": [
    {
     "name": "stdout",
     "output_type": "stream",
     "text": [
      "Number of tables: 2\n",
      "('Departments',)\n",
      "('Employees',)\n",
      "\n",
      "\t\tConnection Disconnected.\n"
     ]
    }
   ],
   "source": [
    "# obj = SQLConn(db_name)\n",
    "obj.show_tables()"
   ]
  },
  {
   "cell_type": "code",
   "execution_count": 4,
   "id": "406a268c",
   "metadata": {},
   "outputs": [
    {
     "name": "stdout",
     "output_type": "stream",
     "text": [
      "Database 'my_db' loaded.\n",
      "Table Employees created successfully.\n",
      "\n",
      "\t\tConnection Disconnected.\n"
     ]
    }
   ],
   "source": [
    "# CREATE TABLE Employees (\n",
    "#     EmployeeID INT PRIMARY KEY,\n",
    "#     FirstName NVARCHAR(50),\n",
    "#     LastName NVARCHAR(50),\n",
    "#     BirthDate DATE,\n",
    "#     Salary DECIMAL(10, 2)\n",
    "# );\n",
    "\n",
    "table_nm = 'Employees'\n",
    "schema = \"(EmployeeID INT PRIMARY KEY, FirstName NVARCHAR(50), LastName NVARCHAR(50), BirthDate DATE, Salary DECIMAL(10, 2))\"\n",
    "obj = UpdateTable(db_name, table_nm)\n",
    "obj.create_table(schema)"
   ]
  },
  {
   "cell_type": "code",
   "execution_count": 13,
   "id": "34b355c4",
   "metadata": {},
   "outputs": [],
   "source": [
    "# query = \"\"\"INSERT INTO Employees (EmployeeID, FirstName, LastName, BirthDate, Salary) VALUES\n",
    "# (1, 'John', 'Doe', '1980-01-01', 50000.00),\n",
    "# (2, 'Jane', 'Smith', '1985-02-15', 55000.00),\n",
    "# (3, 'Michael', 'Johnson', '1990-03-10', 60000.00),\n",
    "# (4, 'Emily', 'Davis', '1975-04-20', 62000.00),\n",
    "# (5, 'Chris', 'Brown', '1988-05-25', 58000.00),\n",
    "# (6, 'Jessica', 'Wilson', '1992-06-30', 53000.00),\n",
    "# (7, 'David', 'Martinez', '1983-07-14', 64000.00),\n",
    "# (8, 'Sarah', 'Anderson', '1979-08-05', 59000.00),\n",
    "# (9, 'James', 'Taylor', '1995-09-21', 52000.00),\n",
    "# (10, 'Laura', 'Thomas', '1982-10-18', 61000.00);\"\"\"\n",
    "query = \"\"\"INSERT INTO Employees (EmployeeID, FirstName, LastName, BirthDate, Salary) VALUES\n",
    "(11, 'John1', 'Doe1', '1980-01-01', 55000.00);\"\"\"\n",
    "sql.execute_query(query)"
   ]
  },
  {
   "cell_type": "code",
   "execution_count": 34,
   "id": "10c19c74",
   "metadata": {},
   "outputs": [
    {
     "data": {
      "text/plain": [
       "[(1, 'IT', 0),\n",
       " (2, 'Mech', 0),\n",
       " (3, 'Sales', 0),\n",
       " (4, 'Account', 0),\n",
       " (5, 'Management', 0)]"
      ]
     },
     "execution_count": 34,
     "metadata": {},
     "output_type": "execute_result"
    }
   ],
   "source": [
    "query = \"\"\"SELECT * FROM Employees\n",
    "where salary>60000 AND employeeid<=7\"\"\"\n",
    "query = \"\"\"SELECT DISTINCT Department\n",
    "FROM Employees;\"\"\"\n",
    "# sql.execute_query(query)\n",
    "# row.fetchall()\n",
    "query = \"SELECT * FROM Departments\"\n",
    "sql.execute(query).fetchall()"
   ]
  },
  {
   "cell_type": "code",
   "execution_count": 37,
   "id": "1692ea94",
   "metadata": {
    "scrolled": true
   },
   "outputs": [
    {
     "data": {
      "text/plain": [
       "[(1, 'John', 'Doe', datetime.date(1980, 1, 1), Decimal('50000.00')),\n",
       " (2, 'Jane', 'Smith', datetime.date(1985, 2, 15), Decimal('55000.00')),\n",
       " (3, 'Michael', 'Johnson', datetime.date(1990, 3, 10), Decimal('60000.00')),\n",
       " (4, 'Emily', 'Davis', datetime.date(1975, 4, 20), Decimal('62000.00')),\n",
       " (5, 'Chris', 'Brown', datetime.date(1988, 5, 25), Decimal('58000.00')),\n",
       " (6, 'Jessica', 'Wilson', datetime.date(1992, 6, 30), Decimal('53000.00')),\n",
       " (7, 'David', 'Martinez', datetime.date(1983, 7, 14), Decimal('64000.00')),\n",
       " (8, 'Sarah', 'Anderson', datetime.date(1979, 8, 5), Decimal('59000.00')),\n",
       " (9, 'James', 'Taylor', datetime.date(1995, 9, 21), Decimal('52000.00')),\n",
       " (10, 'Laura', 'Thomas', datetime.date(1982, 10, 18), Decimal('61000.00')),\n",
       " (11, 'John1', 'Doe1', datetime.date(1980, 1, 1), Decimal('55000.00'))]"
      ]
     },
     "execution_count": 37,
     "metadata": {},
     "output_type": "execute_result"
    }
   ],
   "source": [
    "query = \"SELECT * FROM Employees\"\n",
    "sql.execute(query).fetchall()"
   ]
  },
  {
   "cell_type": "code",
   "execution_count": 41,
   "id": "61029458",
   "metadata": {},
   "outputs": [
    {
     "data": {
      "text/plain": [
       "[(1, 'John', 'Doe', 'IT'),\n",
       " (2, 'Jane', 'Smith', 'Mech'),\n",
       " (3, 'Michael', 'Johnson', 'Sales'),\n",
       " (4, 'Emily', 'Davis', 'Account'),\n",
       " (5, 'Chris', 'Brown', 'Management')]"
      ]
     },
     "execution_count": 41,
     "metadata": {},
     "output_type": "execute_result"
    }
   ],
   "source": [
    "# conn.execute(\"\"\"CREATE TABLE Departments (\n",
    "#     dep_id INT PRIMARY KEY,\n",
    "#     name VARCHAR(50),\n",
    "#     employeecount INT\n",
    "# );\"\"\")\n",
    "# conn.execute(\"\"\"INSERT INTO Departments (dep_id, name, employeecount) VALUES\n",
    "# (1, 'IT', 0),\n",
    "# (2, 'Mech', 0),\n",
    "# (3, 'Sales', 0),\n",
    "# (4, 'Account', 0),\n",
    "# (5, 'Management', 0);\"\"\")\n",
    "q = \"\"\"SELECT e.EmployeeID, e.FirstName, e.LastName, d.name as DepartmentName \n",
    "FROM Employees e \n",
    "INNER JOIN Departments d ON e.EmployeeID = d.dep_id;\"\"\"\n",
    "conn.execute(q).fetchall()"
   ]
  },
  {
   "cell_type": "code",
   "execution_count": null,
   "id": "b1af6585",
   "metadata": {},
   "outputs": [],
   "source": []
  },
  {
   "cell_type": "code",
   "execution_count": 14,
   "id": "95d1c4b3",
   "metadata": {
    "scrolled": true
   },
   "outputs": [
    {
     "name": "stdout",
     "output_type": "stream",
     "text": [
      "Database 'my_db' loaded.\n",
      "Number of rows: 11\n",
      "(1, 'John', 'Doe', datetime.date(1980, 1, 1), Decimal('50000.00'))\n",
      "(2, 'Jane', 'Smith', datetime.date(1985, 2, 15), Decimal('55000.00'))\n",
      "(3, 'Michael', 'Johnson', datetime.date(1990, 3, 10), Decimal('60000.00'))\n",
      "(4, 'Emily', 'Davis', datetime.date(1975, 4, 20), Decimal('62000.00'))\n",
      "(5, 'Chris', 'Brown', datetime.date(1988, 5, 25), Decimal('58000.00'))\n",
      "(6, 'Jessica', 'Wilson', datetime.date(1992, 6, 30), Decimal('53000.00'))\n",
      "(7, 'David', 'Martinez', datetime.date(1983, 7, 14), Decimal('64000.00'))\n",
      "(8, 'Sarah', 'Anderson', datetime.date(1979, 8, 5), Decimal('59000.00'))\n",
      "(9, 'James', 'Taylor', datetime.date(1995, 9, 21), Decimal('52000.00'))\n",
      "(10, 'Laura', 'Thomas', datetime.date(1982, 10, 18), Decimal('61000.00'))\n",
      "(11, 'John1', 'Doe1', datetime.date(1980, 1, 1), Decimal('55000.00'))\n",
      "\n",
      "\t\tConnection Disconnected.\n"
     ]
    }
   ],
   "source": [
    "obj = ShowTable(db_name, table_nm)\n",
    "obj.show_table_data_all()\n"
   ]
  },
  {
   "cell_type": "code",
   "execution_count": 15,
   "id": "ef487052",
   "metadata": {},
   "outputs": [
    {
     "name": "stdout",
     "output_type": "stream",
     "text": [
      "Database 'my_db' loaded.\n",
      "Number of rows: 11\n",
      "\n",
      "\t\tConnection Disconnected.\n"
     ]
    },
    {
     "data": {
      "text/html": [
       "<div>\n",
       "<style scoped>\n",
       "    .dataframe tbody tr th:only-of-type {\n",
       "        vertical-align: middle;\n",
       "    }\n",
       "\n",
       "    .dataframe tbody tr th {\n",
       "        vertical-align: top;\n",
       "    }\n",
       "\n",
       "    .dataframe thead th {\n",
       "        text-align: right;\n",
       "    }\n",
       "</style>\n",
       "<table border=\"1\" class=\"dataframe\">\n",
       "  <thead>\n",
       "    <tr style=\"text-align: right;\">\n",
       "      <th></th>\n",
       "      <th>0</th>\n",
       "      <th>1</th>\n",
       "      <th>2</th>\n",
       "      <th>3</th>\n",
       "      <th>4</th>\n",
       "    </tr>\n",
       "  </thead>\n",
       "  <tbody>\n",
       "    <tr>\n",
       "      <th>0</th>\n",
       "      <td>1</td>\n",
       "      <td>John</td>\n",
       "      <td>Doe</td>\n",
       "      <td>1980-01-01</td>\n",
       "      <td>50000.00</td>\n",
       "    </tr>\n",
       "    <tr>\n",
       "      <th>1</th>\n",
       "      <td>2</td>\n",
       "      <td>Jane</td>\n",
       "      <td>Smith</td>\n",
       "      <td>1985-02-15</td>\n",
       "      <td>55000.00</td>\n",
       "    </tr>\n",
       "    <tr>\n",
       "      <th>2</th>\n",
       "      <td>3</td>\n",
       "      <td>Michael</td>\n",
       "      <td>Johnson</td>\n",
       "      <td>1990-03-10</td>\n",
       "      <td>60000.00</td>\n",
       "    </tr>\n",
       "    <tr>\n",
       "      <th>3</th>\n",
       "      <td>4</td>\n",
       "      <td>Emily</td>\n",
       "      <td>Davis</td>\n",
       "      <td>1975-04-20</td>\n",
       "      <td>62000.00</td>\n",
       "    </tr>\n",
       "    <tr>\n",
       "      <th>4</th>\n",
       "      <td>5</td>\n",
       "      <td>Chris</td>\n",
       "      <td>Brown</td>\n",
       "      <td>1988-05-25</td>\n",
       "      <td>58000.00</td>\n",
       "    </tr>\n",
       "    <tr>\n",
       "      <th>5</th>\n",
       "      <td>6</td>\n",
       "      <td>Jessica</td>\n",
       "      <td>Wilson</td>\n",
       "      <td>1992-06-30</td>\n",
       "      <td>53000.00</td>\n",
       "    </tr>\n",
       "    <tr>\n",
       "      <th>6</th>\n",
       "      <td>7</td>\n",
       "      <td>David</td>\n",
       "      <td>Martinez</td>\n",
       "      <td>1983-07-14</td>\n",
       "      <td>64000.00</td>\n",
       "    </tr>\n",
       "    <tr>\n",
       "      <th>7</th>\n",
       "      <td>8</td>\n",
       "      <td>Sarah</td>\n",
       "      <td>Anderson</td>\n",
       "      <td>1979-08-05</td>\n",
       "      <td>59000.00</td>\n",
       "    </tr>\n",
       "    <tr>\n",
       "      <th>8</th>\n",
       "      <td>9</td>\n",
       "      <td>James</td>\n",
       "      <td>Taylor</td>\n",
       "      <td>1995-09-21</td>\n",
       "      <td>52000.00</td>\n",
       "    </tr>\n",
       "    <tr>\n",
       "      <th>9</th>\n",
       "      <td>10</td>\n",
       "      <td>Laura</td>\n",
       "      <td>Thomas</td>\n",
       "      <td>1982-10-18</td>\n",
       "      <td>61000.00</td>\n",
       "    </tr>\n",
       "    <tr>\n",
       "      <th>10</th>\n",
       "      <td>11</td>\n",
       "      <td>John1</td>\n",
       "      <td>Doe1</td>\n",
       "      <td>1980-01-01</td>\n",
       "      <td>55000.00</td>\n",
       "    </tr>\n",
       "  </tbody>\n",
       "</table>\n",
       "</div>"
      ],
      "text/plain": [
       "     0        1         2           3         4\n",
       "0    1     John       Doe  1980-01-01  50000.00\n",
       "1    2     Jane     Smith  1985-02-15  55000.00\n",
       "2    3  Michael   Johnson  1990-03-10  60000.00\n",
       "3    4    Emily     Davis  1975-04-20  62000.00\n",
       "4    5    Chris     Brown  1988-05-25  58000.00\n",
       "5    6  Jessica    Wilson  1992-06-30  53000.00\n",
       "6    7    David  Martinez  1983-07-14  64000.00\n",
       "7    8    Sarah  Anderson  1979-08-05  59000.00\n",
       "8    9    James    Taylor  1995-09-21  52000.00\n",
       "9   10    Laura    Thomas  1982-10-18  61000.00\n",
       "10  11    John1      Doe1  1980-01-01  55000.00"
      ]
     },
     "execution_count": 15,
     "metadata": {},
     "output_type": "execute_result"
    }
   ],
   "source": [
    "obj = ShowTable(db_name, table_nm)\n",
    "obj.table_data_to_df()"
   ]
  },
  {
   "cell_type": "code",
   "execution_count": null,
   "id": "9bc2ce71",
   "metadata": {},
   "outputs": [],
   "source": []
  }
 ],
 "metadata": {
  "kernelspec": {
   "display_name": "Venv_DuckDB_Python311",
   "language": "python",
   "name": "venv_duckdb_python311"
  },
  "language_info": {
   "codemirror_mode": {
    "name": "ipython",
    "version": 3
   },
   "file_extension": ".py",
   "mimetype": "text/x-python",
   "name": "python",
   "nbconvert_exporter": "python",
   "pygments_lexer": "ipython3",
   "version": "3.11.6"
  }
 },
 "nbformat": 4,
 "nbformat_minor": 5
}
